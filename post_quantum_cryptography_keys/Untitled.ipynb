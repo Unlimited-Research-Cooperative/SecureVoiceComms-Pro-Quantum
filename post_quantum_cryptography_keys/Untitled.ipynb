{
 "cells": [
  {
   "cell_type": "code",
   "execution_count": 2,
   "id": "22b38b02-7188-4ffb-beee-5d99ca3df24e",
   "metadata": {},
   "outputs": [
    {
     "name": "stdout",
     "output_type": "stream",
     "text": [
      "Private Key Data:\n",
      "N: 167\n",
      "p: 3\n",
      "q: 128\n",
      "f: [0 -1 -1 -1 -1 0 0 0 -1 1 0 1 -1 -1 0 -1 0 0 0 1 1 0 1 0 0 0 1 1 0 0 0 0 1\n",
      " 1 -1 0 -1 1 -1 -1 -1 0 1 1 1 -1 0 0 -1 1 1 1 -1 1 0 1 0 -1 0 1 -1 0 -1 -1\n",
      " -1 -1 0 0 -1 -1 -1 -1 1 0 0 1 0 1 -1 -1 -1 0 1 -1 -1 0 1 -1 1 1 1 1 1 0 1\n",
      " 1 0 -1 0 1 0 0 -1 -1 -1 0 1 0 -1 0 0 0 -1 -1 1 1 0 -1 1 -1 1 1 -1 1 1 0 1\n",
      " 1 1 1 1 -1 -1 0 -1 0 0 0 -1 0 1 -1 1 1 1 -1 1 0 0 0 1 0 1 0 -1 -1 1 -1 -1\n",
      " 0 1 1 0 -1 0 0 -1]\n",
      "f_p: [1 0 1 1 -1 0 1 -1 -1 -1 -1 0 0 -1 0 -1 0 -1 0 0 -1 0 -1 1 0 -1 0 -1 -1 1\n",
      " -1 0 0 0 0 -1 1 1 1 1 0 0 -1 1 1 0 0 -1 0 1 1 1 0 -1 0 -1 1 1 0 0 -1 -1 0\n",
      " 1 0 1 1 -1 1 1 1 0 0 0 1 0 1 -1 -1 1 0 0 0 1 1 1 -1 0 -1 -1 0 1 -1 -1 -1\n",
      " -1 0 1 0 0 1 1 -1 1 1 1 0 1 1 0 0 -1 0 1 -1 -1 0 0 0 0 -1 -1 -1 -1 -1 0 1\n",
      " 1 1 0 1 1 0 -1 0 -1 0 1 1 0 -1 -1 1 0 -1 -1 1 -1 -1 0 0 0 0 -1 -1 -1 -1 0\n",
      " -1 -1 1 0 1 1 -1 0 -1]\n",
      "\n",
      "Public Key Data:\n",
      "N: 167\n",
      "p: 3\n",
      "q: 128\n",
      "h: [-23 57 -25 62 36 64 -4 -22 -62 -46 -50 40 -33 62 39 34 -50 51 -28 -43 -58\n",
      " 14 42 -38 -15 -1 -56 -20 -50 -41 -22 -9 18 -15 -56 -22 19 33 -8 -8 -23\n",
      " -37 60 -50 30 -31 -30 15 54 -15 50 -19 -42 0 9 14 -17 -7 -17 -59 -32 -28\n",
      " -16 55 21 40 -60 -9 -50 12 57 64 -31 58 2 26 -53 -33 -29 5 -12 20 -49 -40\n",
      " 20 32 -21 30 9 8 16 -41 -30 -10 57 57 11 -22 -11 -20 -53 -16 -42 11 13\n",
      " -20 18 -4 64 55 -52 -10 39 32 45 54 -51 26 -29 57 0 -9 -8 7 -62 13 -37 51\n",
      " 36 53 56 6 -24 -10 -21 -5 38 8 36 61 -3 53 -18 0 48 34 -53 10 52 -19 -48\n",
      " 61 -31 -18 61 38 -63 11 10 44 -9 -41 -1 -36 30 1 35]\n"
     ]
    }
   ],
   "source": [
    "\n",
    "import numpy as np\n",
    "\n",
    "def print_key_data(file_path):\n",
    "    key_data = np.load(file_path, allow_pickle=True)\n",
    "    for key, value in key_data.items():\n",
    "        print(f\"{key}: {value}\")\n",
    "\n",
    "# Replace 'your_priv_key_file.npz' and 'your_pub_key_file.npz' with your actual file paths\n",
    "print(\"Private Key Data:\")\n",
    "print_key_data('myKey.priv.npz')\n",
    "\n",
    "print(\"\\nPublic Key Data:\")\n",
    "print_key_data('myKey.pub.npz')\n",
    "\n"
   ]
  },
  {
   "cell_type": "code",
   "execution_count": null,
   "id": "41903f31-1686-41a7-afb4-44913c8d02ab",
   "metadata": {},
   "outputs": [],
   "source": []
  }
 ],
 "metadata": {
  "kernelspec": {
   "display_name": "Python 3 (ipykernel)",
   "language": "python",
   "name": "python3"
  },
  "language_info": {
   "codemirror_mode": {
    "name": "ipython",
    "version": 3
   },
   "file_extension": ".py",
   "mimetype": "text/x-python",
   "name": "python",
   "nbconvert_exporter": "python",
   "pygments_lexer": "ipython3",
   "version": "3.10.12"
  }
 },
 "nbformat": 4,
 "nbformat_minor": 5
}
