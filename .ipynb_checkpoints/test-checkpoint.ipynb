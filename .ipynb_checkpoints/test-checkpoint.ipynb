{
 "cells": [
  {
   "cell_type": "markdown",
   "id": "d88028c4-fed1-49c7-8a98-6669587a18d8",
   "metadata": {},
   "source": [
    "# Generate key"
   ]
  },
  {
   "cell_type": "code",
   "execution_count": 2,
   "id": "57c4b79c-2613-42da-8cd6-13bcd115d93b",
   "metadata": {},
   "outputs": [
    {
     "name": "stdout",
     "output_type": "stream",
     "text": [
      "Encryption Key: b\",\\x0c@\\xfd\\xb9\\xa0n\\xc0\\xfb\\xb7\\xa5\\x08\\x82\\x8en\\x0e\\xcf\\xec'K\\xd8\\xbeQ\\xdd\\xc8\\x86}z_\\x94,\\xa5\"\n"
     ]
    }
   ],
   "source": [
    "import secrets\n",
    "\n",
    "def generate_secure_key():\n",
    "    return secrets.token_bytes(32)\n",
    "\n",
    "encryption_key = generate_secure_key()\n",
    "print(\"Encryption Key:\", encryption_key)\n"
   ]
  },
  {
   "cell_type": "markdown",
   "id": "0160f039-437d-4981-977d-5b600a191c8f",
   "metadata": {},
   "source": [
    "# Test encrypt.py , decrypt.py"
   ]
  },
  {
   "cell_type": "code",
   "execution_count": 1,
   "id": "51db114c-cce5-46a5-b44f-00b573621b92",
   "metadata": {},
   "outputs": [
    {
     "name": "stdout",
     "output_type": "stream",
     "text": [
      "Recording voice for 5 seconds...\n",
      "Encrypting voice data...\n"
     ]
    },
    {
     "ename": "Exception",
     "evalue": "ntru.py failed: Traceback (most recent call last):\n  File \"/home/vincent/AAA_projects/UnlimitedResearchCooperative/Synthetic_Intelligence_Labs/SecureVoiceComms-Pro/./ntru.py\", line 183, in <module>\n    main()\n  File \"/home/vincent/AAA_projects/UnlimitedResearchCooperative/Synthetic_Intelligence_Labs/SecureVoiceComms-Pro/./ntru.py\", line 167, in main\n    output = encrypt(args['PUB_KEY_FILE'], input_arr, bin_output=not poly_output, block=block)\nTypeError: encrypt() got multiple values for argument 'bin_output'\n",
     "output_type": "error",
     "traceback": [
      "\u001b[0;31m---------------------------------------------------------------------------\u001b[0m",
      "\u001b[0;31mException\u001b[0m                                 Traceback (most recent call last)",
      "Cell \u001b[0;32mIn[1], line 37\u001b[0m\n\u001b[1;32m     34\u001b[0m     \u001b[38;5;28mprint\u001b[39m(\u001b[38;5;124mf\u001b[39m\u001b[38;5;124m\"\u001b[39m\u001b[38;5;124mOutput audio saved to \u001b[39m\u001b[38;5;132;01m{\u001b[39;00moutput_filename\u001b[38;5;132;01m}\u001b[39;00m\u001b[38;5;124m\"\u001b[39m)\n\u001b[1;32m     36\u001b[0m \u001b[38;5;66;03m# Run the test\u001b[39;00m\n\u001b[0;32m---> 37\u001b[0m \u001b[43mtest_voice_communication\u001b[49m\u001b[43m(\u001b[49m\u001b[43m)\u001b[49m\n",
      "Cell \u001b[0;32mIn[1], line 17\u001b[0m, in \u001b[0;36mtest_voice_communication\u001b[0;34m(duration, fs)\u001b[0m\n\u001b[1;32m     15\u001b[0m \u001b[38;5;66;03m# Encrypt the recorded voice bytes directly\u001b[39;00m\n\u001b[1;32m     16\u001b[0m \u001b[38;5;28mprint\u001b[39m(\u001b[38;5;124m\"\u001b[39m\u001b[38;5;124mEncrypting voice data...\u001b[39m\u001b[38;5;124m\"\u001b[39m)\n\u001b[0;32m---> 17\u001b[0m encrypted_voice_bytes \u001b[38;5;241m=\u001b[39m \u001b[43mencrypt_data\u001b[49m\u001b[43m(\u001b[49m\u001b[43mrecorded_voice_bytes\u001b[49m\u001b[43m)\u001b[49m\n\u001b[1;32m     19\u001b[0m \u001b[38;5;66;03m# Decrypt the encrypted voice bytes\u001b[39;00m\n\u001b[1;32m     20\u001b[0m \u001b[38;5;28mprint\u001b[39m(\u001b[38;5;124m\"\u001b[39m\u001b[38;5;124mDecrypting voice data...\u001b[39m\u001b[38;5;124m\"\u001b[39m)\n",
      "File \u001b[0;32m~/AAA_projects/UnlimitedResearchCooperative/Synthetic_Intelligence_Labs/SecureVoiceComms-Pro/encrypt_decrypt.py:22\u001b[0m, in \u001b[0;36mencrypt_data\u001b[0;34m(data)\u001b[0m\n\u001b[1;32m     19\u001b[0m \u001b[38;5;28;01mdef\u001b[39;00m \u001b[38;5;21mencrypt_data\u001b[39m(data):\n\u001b[1;32m     20\u001b[0m     \u001b[38;5;66;03m# Assuming data is a bytes object, convert it to Base64 to ensure safe transmission through subprocess\u001b[39;00m\n\u001b[1;32m     21\u001b[0m     data_base64 \u001b[38;5;241m=\u001b[39m base64\u001b[38;5;241m.\u001b[39mb64encode(data)\n\u001b[0;32m---> 22\u001b[0m     encrypted_data \u001b[38;5;241m=\u001b[39m \u001b[43mcall_ntru_script\u001b[49m\u001b[43m(\u001b[49m\u001b[38;5;124;43m'\u001b[39;49m\u001b[38;5;124;43menc\u001b[39;49m\u001b[38;5;124;43m'\u001b[39;49m\u001b[43m,\u001b[49m\u001b[43m \u001b[49m\u001b[38;5;124;43m'\u001b[39;49m\u001b[38;5;124;43mpublic_key.npz\u001b[39;49m\u001b[38;5;124;43m'\u001b[39;49m\u001b[43m,\u001b[49m\u001b[43m \u001b[49m\u001b[43mdata_base64\u001b[49m\u001b[43m)\u001b[49m\n\u001b[1;32m     23\u001b[0m     \u001b[38;5;28;01mreturn\u001b[39;00m encrypted_data\n",
      "File \u001b[0;32m~/AAA_projects/UnlimitedResearchCooperative/Synthetic_Intelligence_Labs/SecureVoiceComms-Pro/encrypt_decrypt.py:15\u001b[0m, in \u001b[0;36mcall_ntru_script\u001b[0;34m(action, key_file, data)\u001b[0m\n\u001b[1;32m     12\u001b[0m     stdout_data, stderr_data \u001b[38;5;241m=\u001b[39m process\u001b[38;5;241m.\u001b[39mcommunicate()\n\u001b[1;32m     14\u001b[0m \u001b[38;5;28;01mif\u001b[39;00m process\u001b[38;5;241m.\u001b[39mreturncode \u001b[38;5;241m!=\u001b[39m \u001b[38;5;241m0\u001b[39m:\n\u001b[0;32m---> 15\u001b[0m     \u001b[38;5;28;01mraise\u001b[39;00m \u001b[38;5;167;01mException\u001b[39;00m(\u001b[38;5;124mf\u001b[39m\u001b[38;5;124m\"\u001b[39m\u001b[38;5;124mntru.py failed: \u001b[39m\u001b[38;5;132;01m{\u001b[39;00mstderr_data\u001b[38;5;241m.\u001b[39mdecode()\u001b[38;5;132;01m}\u001b[39;00m\u001b[38;5;124m\"\u001b[39m)\n\u001b[1;32m     17\u001b[0m \u001b[38;5;28;01mreturn\u001b[39;00m stdout_data\n",
      "\u001b[0;31mException\u001b[0m: ntru.py failed: Traceback (most recent call last):\n  File \"/home/vincent/AAA_projects/UnlimitedResearchCooperative/Synthetic_Intelligence_Labs/SecureVoiceComms-Pro/./ntru.py\", line 183, in <module>\n    main()\n  File \"/home/vincent/AAA_projects/UnlimitedResearchCooperative/Synthetic_Intelligence_Labs/SecureVoiceComms-Pro/./ntru.py\", line 167, in main\n    output = encrypt(args['PUB_KEY_FILE'], input_arr, bin_output=not poly_output, block=block)\nTypeError: encrypt() got multiple values for argument 'bin_output'\n"
     ]
    }
   ],
   "source": [
    "import numpy as np\n",
    "import sounddevice as sd\n",
    "import soundfile as sf\n",
    "from encrypt_decrypt import encrypt_data, decrypt_data\n",
    "\n",
    "def test_voice_communication(duration=5, fs=44100):\n",
    "    print(\"Recording voice for 5 seconds...\")\n",
    "    # Record voice for 5 seconds\n",
    "    recorded_voice = sd.rec(int(duration * fs), samplerate=fs, channels=1, dtype='float32')\n",
    "    sd.wait()  # Wait until recording is finished\n",
    "\n",
    "    # Convert recorded voice to bytes\n",
    "    recorded_voice_bytes = recorded_voice.tobytes()\n",
    "\n",
    "    # Encrypt the recorded voice bytes directly\n",
    "    print(\"Encrypting voice data...\")\n",
    "    encrypted_voice_bytes = encrypt_data(recorded_voice_bytes)\n",
    "\n",
    "    # Decrypt the encrypted voice bytes\n",
    "    print(\"Decrypting voice data...\")\n",
    "    decrypted_voice_bytes = decrypt_data(encrypted_voice_bytes, 'private_key.npz')\n",
    "\n",
    "    # Convert the decrypted bytes back to float32\n",
    "    decrypted_voice = np.frombuffer(decrypted_voice_bytes, dtype='float32')\n",
    "\n",
    "    # Play the decrypted voice\n",
    "    print(\"Playing decrypted voice...\")\n",
    "    sd.play(decrypted_voice, fs)\n",
    "    sd.wait()  # Wait until playback is finished\n",
    "\n",
    "    # Save the output audio to a file\n",
    "    output_filename = 'output_audio.wav'\n",
    "    sf.write(output_filename, decrypted_voice, fs)\n",
    "    print(f\"Output audio saved to {output_filename}\")\n",
    "\n",
    "# Run the test\n",
    "test_voice_communication()\n"
   ]
  },
  {
   "cell_type": "code",
   "execution_count": null,
   "id": "10aaebea-4387-4060-a62c-4ab4333f4d1e",
   "metadata": {},
   "outputs": [],
   "source": []
  },
  {
   "cell_type": "code",
   "execution_count": null,
   "id": "01a148a8-2302-479e-bc23-14a9503181d3",
   "metadata": {},
   "outputs": [],
   "source": []
  }
 ],
 "metadata": {
  "kernelspec": {
   "display_name": "Python 3 (ipykernel)",
   "language": "python",
   "name": "python3"
  },
  "language_info": {
   "codemirror_mode": {
    "name": "ipython",
    "version": 3
   },
   "file_extension": ".py",
   "mimetype": "text/x-python",
   "name": "python",
   "nbconvert_exporter": "python",
   "pygments_lexer": "ipython3",
   "version": "3.10.12"
  }
 },
 "nbformat": 4,
 "nbformat_minor": 5
}
